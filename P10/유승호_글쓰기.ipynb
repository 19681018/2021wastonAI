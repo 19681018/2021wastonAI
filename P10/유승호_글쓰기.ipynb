{
  "nbformat": 4,
  "nbformat_minor": 0,
  "metadata": {
    "accelerator": "GPU",
    "colab": {
      "name": "wordGen-Colab-gpu.ipynb",
      "provenance": [],
      "collapsed_sections": []
    },
    "kernelspec": {
      "display_name": "Python 3",
      "name": "python3"
    }
  },
  "cells": [
    {
      "cell_type": "code",
      "metadata": {
        "id": "LazMJ61LlnOS"
      },
      "source": [
        "from __future__ import print_function\n",
        "import json\n",
        "from keras.models import Sequential\n",
        "from keras.layers import Dense, Activation\n",
        "from keras.layers import LSTM\n",
        "from keras.optimizers import Adam\n",
        "from keras.utils.data_utils import get_file\n",
        "import numpy as np\n",
        "import random\n",
        "import sys\n",
        "import tensorflow as tf"
      ],
      "execution_count": 2,
      "outputs": []
    },
    {
      "cell_type": "code",
      "metadata": {
        "id": "aiFiVMFIozHn"
      },
      "source": [
        "%%capture\n",
        "! wget --no-check-certificate 'https://docs.google.com/uc?export=download&id=1m5rdL_vkZr7JCo_-8g4v9fh2jfU-sX-A' -O yelp_100_3.txt\n",
        "! wget --no-check-certificate 'https://docs.google.com/uc?export=download&id=1qfMZCaANhTR6b1NM4jXGNQQP5Z3eSyq8' -O indices_char.txt\n",
        "! wget --no-check-certificate 'https://docs.google.com/uc?export=download&id=1a1CVCwKQWxyHBpTR3sVgsf7eRtZHjUqx' -O char_indices.txt\n",
        "! wget --no-check-certificate 'https://docs.google.com/uc?export=download&id=1MZEUyaqT48D858zwEVzlTfjgXJvmY-BI' -O transfer_weights"
      ],
      "execution_count": 3,
      "outputs": []
    },
    {
      "cell_type": "code",
      "metadata": {
        "colab": {
          "base_uri": "https://localhost:8080/"
        },
        "id": "Tc0xeVf2mPXt",
        "outputId": "5afac8c5-b3c7-44d1-993b-70eece7bad80"
      },
      "source": [
        "!ls -l"
      ],
      "execution_count": 5,
      "outputs": [
        {
          "output_type": "stream",
          "text": [
            "total 29896\n",
            "-rw-r--r-- 1 root root      541 May 11 11:04 char_indices.txt\n",
            "-rw-r--r-- 1 root root      663 May 11 11:04 indices_char.txt\n",
            "drwxr-xr-x 1 root root     4096 May  6 13:44 sample_data\n",
            "-rw-r--r-- 1 root root 30524436 May 11 11:04 transfer_weights\n",
            "-rw-r--r-- 1 root root    71250 May 11 11:04 yelp_100_3.txt\n"
          ],
          "name": "stdout"
        }
      ]
    },
    {
      "cell_type": "code",
      "metadata": {
        "colab": {
          "base_uri": "https://localhost:8080/"
        },
        "id": "cu1t1VSrmTwz",
        "outputId": "8bb118c8-255b-47f2-c627-b6c038eadc92"
      },
      "source": [
        "path = 'yelp_100_3.txt'\n",
        "text = open(path).read().lower()\n",
        "print('corpus length:', len(text))\n",
        "\n",
        "char_indices = json.loads(open('char_indices.txt').read())\n",
        "indices_char = json.loads(open('indices_char.txt').read())\n",
        "chars = sorted(char_indices.keys())\n",
        "print(indices_char)\n",
        "#chars = sorted(list(set(text)))\n",
        "print('total chars:', len(chars))\n",
        "#char_indices = dict((c, i) for i, c in enumerate(chars))\n",
        "#indices_char = dict((i, c) for i, c in enumerate(chars))\n",
        "\n",
        "# cut the text in semi-redundant sequences of maxlen characters\n",
        "maxlen = 256\n",
        "step = 3\n",
        "sentences = []\n",
        "next_chars = []\n",
        "for i in range(0, len(text) - maxlen, step):\n",
        "    sentences.append(text[i: i + maxlen])\n",
        "    next_chars.append(text[i + maxlen])\n",
        "print('nb sequences:', len(sentences))\n",
        "\n",
        "print('Vectorization...')\n",
        "X = np.zeros((len(sentences), maxlen, len(chars)), dtype=np.bool)\n",
        "y = np.zeros((len(sentences), len(chars)), dtype=np.bool)\n",
        "for i, sentence in enumerate(sentences):\n",
        "    for t, char in enumerate(sentence):\n",
        "        X[i, t, char_indices[char]] = 1\n",
        "    y[i, char_indices[next_chars[i]]] = 1\n",
        "\n",
        "\n"
      ],
      "execution_count": 6,
      "outputs": [
        {
          "output_type": "stream",
          "text": [
            "corpus length: 71250\n",
            "{'0': '\\n', '1': ' ', '2': '!', '3': '\"', '4': '#', '5': '$', '6': '%', '7': '&', '8': \"'\", '9': '(', '10': ')', '11': '*', '12': '+', '13': ',', '14': '-', '15': '.', '16': '/', '17': '0', '18': '1', '19': '2', '20': '3', '21': '4', '22': '5', '23': '6', '24': '7', '25': '8', '26': '9', '27': ':', '28': ';', '29': '=', '30': '?', '31': '[', '32': ']', '33': 'a', '34': 'b', '35': 'c', '36': 'd', '37': 'e', '38': 'f', '39': 'g', '40': 'h', '41': 'i', '42': 'j', '43': 'k', '44': 'l', '45': 'm', '46': 'n', '47': 'o', '48': 'p', '49': 'q', '50': 'r', '51': 's', '52': 't', '53': 'u', '54': 'v', '55': 'w', '56': 'x', '57': 'y', '58': 'z', '59': '{', '60': '}'}\n",
            "total chars: 61\n",
            "nb sequences: 23665\n",
            "Vectorization...\n"
          ],
          "name": "stdout"
        }
      ]
    },
    {
      "cell_type": "code",
      "metadata": {
        "colab": {
          "base_uri": "https://localhost:8080/"
        },
        "id": "Kk8heE1FyCgs",
        "outputId": "98baab4b-5450-46cc-c966-16c051497a31"
      },
      "source": [
        "\n",
        "# build the model: a single LSTM\n",
        "print('Build model...')\n",
        "model = Sequential()\n",
        "model.add(LSTM(1024, return_sequences=True, input_shape=(maxlen, len(chars))))\n",
        "model.add(LSTM(512, return_sequences=False))\n",
        "model.add(Dense(len(chars)))\n",
        "model.add(Activation('softmax'))\n",
        "optimizer = Adam(lr=0.002)\n",
        "model.compile(loss='categorical_crossentropy', optimizer=optimizer)"
      ],
      "execution_count": 9,
      "outputs": [
        {
          "output_type": "stream",
          "text": [
            "Build model...\n"
          ],
          "name": "stdout"
        }
      ]
    },
    {
      "cell_type": "code",
      "metadata": {
        "colab": {
          "base_uri": "https://localhost:8080/"
        },
        "id": "stQZjEGtx1DZ",
        "outputId": "1c6217fd-926b-48f0-bd36-085735ece465"
      },
      "source": [
        "print(model.summary())"
      ],
      "execution_count": 10,
      "outputs": [
        {
          "output_type": "stream",
          "text": [
            "Model: \"sequential_1\"\n",
            "_________________________________________________________________\n",
            "Layer (type)                 Output Shape              Param #   \n",
            "=================================================================\n",
            "lstm_2 (LSTM)                (None, 256, 1024)         4448256   \n",
            "_________________________________________________________________\n",
            "lstm_3 (LSTM)                (None, 512)               3147776   \n",
            "_________________________________________________________________\n",
            "dense_1 (Dense)              (None, 61)                31293     \n",
            "_________________________________________________________________\n",
            "activation_1 (Activation)    (None, 61)                0         \n",
            "=================================================================\n",
            "Total params: 7,627,325\n",
            "Trainable params: 7,627,325\n",
            "Non-trainable params: 0\n",
            "_________________________________________________________________\n",
            "None\n"
          ],
          "name": "stdout"
        }
      ]
    },
    {
      "cell_type": "code",
      "metadata": {
        "colab": {
          "base_uri": "https://localhost:8080/"
        },
        "id": "Tbp_lVfN_Pos",
        "outputId": "a8ca0723-598e-465c-87ca-ec61936cb449"
      },
      "source": [
        "model.load_weights(\"transfer_weights\")\n",
        "print('model loaded...')\n",
        "def sample(preds, temperature=.6):\n",
        "    # helper function to sample an index from a probability array\n",
        "    preds = np.asarray(preds).astype('float64')\n",
        "    preds = np.log(preds) / temperature\n",
        "    exp_preds = np.exp(preds)\n",
        "    preds = exp_preds / np.sum(exp_preds)\n",
        "    probas = np.random.multinomial(1, preds, 1)\n",
        "    return np.argmax(probas)\n",
        "\n",
        "# train the model, output generated text after each iteration\n",
        "for iteration in range(1, 5):\n",
        "    print()\n",
        "    print('-' * 50)\n",
        "    print('Iteration', iteration)\n",
        "    x = np.zeros((1, maxlen, len(chars)))\n",
        "    preds = model.predict(x, verbose=0)[0]\n",
        "    \n",
        "    model.fit(X, y, batch_size=128, epochs=1)\n",
        "\n",
        "    start_index = random.randint(0, len(text) - maxlen - 1)\n",
        "    #start_index = char_indices[\"{\"]\n",
        "\n",
        "    for diversity in [0.2, 0.4, 0.6, 0.8]:\n",
        "        print()\n",
        "        print('----- diversity:', diversity)\n",
        "\n",
        "        generated = ''\n",
        "        sentence = text[start_index: start_index + maxlen]\n",
        "        generated += sentence\n",
        "        print('----- Generating with seed: \"' + sentence + '\"')\n",
        "        sys.stdout.write(generated)\n",
        "        for i in range(400):\n",
        "            x = np.zeros((1, maxlen, len(chars)))\n",
        "            for t, char in enumerate(sentence):\n",
        "                x[0, t, char_indices[char]] = 1.\n",
        "\n",
        "            preds = model.predict(x, verbose=0)[0]\n",
        "            next_index = sample(preds, diversity)\n",
        "            #print(next_index)\n",
        "            #print (indices_char)\n",
        "            next_char = indices_char[str(next_index)]\n",
        "\n",
        "            generated += next_char\n",
        "            sentence = sentence[1:] + next_char\n",
        "\n",
        "            sys.stdout.write(next_char)\n",
        "            sys.stdout.flush()\n",
        "        print()"
      ],
      "execution_count": 11,
      "outputs": [
        {
          "output_type": "stream",
          "text": [
            "model loaded...\n",
            "\n",
            "--------------------------------------------------\n",
            "Iteration 1\n",
            "185/185 [==============================] - 78s 408ms/step - loss: 1.5027\n",
            "\n",
            "----- diversity: 0.2\n",
            "----- Generating with seed: \"that there were only 4 for the entire place and it was really busy.\n",
            "\n",
            "on a very positive note, my friends said that the food was really good for bar food.\n",
            "\n",
            "this might be a great place for any day and time other than happy hour on a friday.}{this place is fa\"\n",
            "that there were only 4 for the entire place and it was really busy.\n",
            "\n",
            "on a very positive note, my friends said that the food was really good for bar food.\n",
            "\n",
            "this might be a great place for any day and time other than happy hour on a friday.}{this place is fantastic a little chili and salad and call and chili backs i was cool dinner and came was a little like the salca was cooked and so i will be back and complained and chili back and served so a most of the food as a coups and chili back, but i would say i would save sure the complamely saldad and so i will be a supher with the salca, i don't live a surder cooked to see to the best paicy of service w\n",
            "\n",
            "----- diversity: 0.4\n",
            "----- Generating with seed: \"that there were only 4 for the entire place and it was really busy.\n",
            "\n",
            "on a very positive note, my friends said that the food was really good for bar food.\n",
            "\n",
            "this might be a great place for any day and time other than happy hour on a friday.}{this place is fa\"\n",
            "that there were only 4 for the entire place and it was really busy.\n",
            "\n",
            "on a very positive note, my friends said that the food was really good for bar food.\n",
            "\n",
            "this might be a great place for any day and time other than happy hour on a friday.}{this place is fantastic a great food and the botto some cookies, and will be just away.  i sandwich.  i kon't live to the service was ple season for me in the mial were served with can blass than was very starling to pees a little drinks with food.  i don't leaving to so we was so i found the sitce back and i componed the service was so night and came i found a billed in the real the chicken and caper was good.  \n",
            "\n",
            "----- diversity: 0.6\n",
            "----- Generating with seed: \"that there were only 4 for the entire place and it was really busy.\n",
            "\n",
            "on a very positive note, my friends said that the food was really good for bar food.\n",
            "\n",
            "this might be a great place for any day and time other than happy hour on a friday.}{this place is fa\"\n",
            "that there were only 4 for the entire place and it was really busy.\n",
            "\n",
            "on a very positive note, my friends said that the food was really good for bar food.\n",
            "\n",
            "this might be a great place for any day and time other than happy hour on a friday.}{this place is favilias on the back with mean, excellent for lunch in the best past quite and salad and we kid a frid of ingo ton in one mean, i kid mexued with food and love  to give the am sime of the walked a little of with the other is clowed or lum really liked the service was ple served is my favorite pooked and i  my fillion was very hearty sates are amazing as someand on collegamell a sunday not music poin\n",
            "\n",
            "----- diversity: 0.8\n",
            "----- Generating with seed: \"that there were only 4 for the entire place and it was really busy.\n",
            "\n",
            "on a very positive note, my friends said that the food was really good for bar food.\n",
            "\n",
            "this might be a great place for any day and time other than happy hour on a friday.}{this place is fa\"\n",
            "that there were only 4 for the entire place and it was really busy.\n",
            "\n",
            "on a very positive note, my friends said that the food was really good for bar food.\n",
            "\n",
            "this might be a great place for any day and time other than happy hour on a friday.}{this place is fantas.. good.}{i've little nit the bonding and chips, oncelact!  i looking me as go do it the pinch is the cool couple of xeating is always fresh tasted miss, pasn, was karg and nem fon adood niget and i was the grats, i would said eac. one of the kerm chicken from  our bows of chies was sigated and cheese place, bit, was just sauce, was cablees to sam tork.  i've nevel delicitely came outs for my \n",
            "\n",
            "--------------------------------------------------\n",
            "Iteration 2\n",
            "185/185 [==============================] - 80s 435ms/step - loss: 1.0452\n",
            "\n",
            "----- diversity: 0.2\n",
            "----- Generating with seed: \"d light enough not to ruin a dinner as we had a wedding to attend later that evening.}{i stopped in one afternoon and ordered some baba and a chicken salad. the baba was good, and served with a ton of pita quarters. the salad was good too, except that most\"\n",
            "d light enough not to ruin a dinner as we had a wedding to attend later that evening.}{i stopped in one afternoon and ordered some baba and a chicken salad. the baba was good, and served with a ton of pita quarters. the salad was good too, except that most and the food as the menu and the food as the wait to give the food as the breakfast taste the food as the best payt surm the cheese and the food as the beans and they are think the they have a great seaffout and they have a great seaffor and was soon.  i've been to several to the they came back and the mood as the monet sauce from the salad and they have a sardath the food as the menu and the foo\n",
            "\n",
            "----- diversity: 0.4\n",
            "----- Generating with seed: \"d light enough not to ruin a dinner as we had a wedding to attend later that evening.}{i stopped in one afternoon and ordered some baba and a chicken salad. the baba was good, and served with a ton of pita quarters. the salad was good too, except that most\"\n",
            "d light enough not to ruin a dinner as we had a wedding to attend later that evening.}{i stopped in one afternoon and ordered some baba and a chicken salad. the baba was good, and served with a ton of pita quarters. the salad was good too, except that most breakfast---2000 we were a menu and a beean from the salad and the food as the salad nave back and the restaurant was sor be the food and the food was great!}{ed into a few the burger food.  i would go baty and they com the french and the salad and they have been as great fantas if you can than a bewind the tack and the food tasty, sausage that was so my freefast short and they were cooked to me \n",
            "\n",
            "----- diversity: 0.6\n",
            "----- Generating with seed: \"d light enough not to ruin a dinner as we had a wedding to attend later that evening.}{i stopped in one afternoon and ordered some baba and a chicken salad. the baba was good, and served with a ton of pita quarters. the salad was good too, except that most\"\n",
            "d light enough not to ruin a dinner as we had a wedding to attend later that evening.}{i stopped in one afternoon and ordered some baba and a chicken salad. the baba was good, and served with a ton of pita quarters. the salad was good too, except that most meal, they heart to be clibn where a few so as a for a wapked or sing, but it's not had a few younces, that whitem count sauce it to and the sauce. they would tasted really ever get to go breasf the plates of the spre of pabar food.  second time of my favorite food will be i had a bee as don't taste and we were ald of when i saided tot's off tasty, sho back tome had a pooked to case her can expre\n",
            "\n",
            "----- diversity: 0.8\n",
            "----- Generating with seed: \"d light enough not to ruin a dinner as we had a wedding to attend later that evening.}{i stopped in one afternoon and ordered some baba and a chicken salad. the baba was good, and served with a ton of pita quarters. the salad was good too, except that most\"\n",
            "d light enough not to ruin a dinner as we had a wedding to attend later that evening.}{i stopped in one afternoon and ordered some baba and a chicken salad. the baba was good, and served with a ton of pita quarters. the salad was good too, except that most! the patra so my minu cheese, clubber chands go and my lombet pied and the waitress was pretty valimined to and they have been sect and calfoch with then ever good. the food as to pit sular burger....), i asked the itatast faver that reas for a cold fresh cream, and older tables as exeremely then and they have level even sat at laightt pretoy pork. i vose and be a night of the intrediblit for hem\n",
            "\n",
            "--------------------------------------------------\n",
            "Iteration 3\n",
            "185/185 [==============================] - 82s 444ms/step - loss: 0.8226\n",
            "\n",
            "----- diversity: 0.2\n",
            "----- Generating with seed: \"o.  i liked the mango-pineapple aqua, super sweet and clean flavor.  i would go back, maybe.}{back from holiday and had some amazing soups that made me reflect back on my experience here.  i have to preface this review with that the owner here is quite lov\"\n",
            "o.  i liked the mango-pineapple aqua, super sweet and clean flavor.  i would go back, maybe.}{back from holiday and had some amazing soups that made me reflect back on my experience here.  i have to preface this review with that the owner here is quite loved the cold tasty of the country sour salad.  i was great!}{i've been all the taste and was i was greens are salad.  i was great!}{i was great!}{i was great!}{i was great!}{i was good.  i we went for the mood and the bacon es so no recommend than there and the best it wasn't the food as the but i was great!}{i've been all hood.  i was great!}{i've been all the best inth and lee't little the best i\n",
            "\n",
            "----- diversity: 0.4\n",
            "----- Generating with seed: \"o.  i liked the mango-pineapple aqua, super sweet and clean flavor.  i would go back, maybe.}{back from holiday and had some amazing soups that made me reflect back on my experience here.  i have to preface this review with that the owner here is quite lov\"\n",
            "o.  i liked the mango-pineapple aqua, super sweet and clean flavor.  i would go back, maybe.}{back from holiday and had some amazing soups that made me reflect back on my experience here.  i have to preface this review with that the owner here is quite loved the fartitares better.  when i whice was be a good prices are halded and the botheren and the saice is so you can the best say i asked a nice service and loice and the sandwich was pretty good... serood shappe food.  i am itt the service was panatious and excripping that the course carting and the corrers are halad a little not the were so yeart and salad.  i amout the best i thing that is a re\n",
            "\n",
            "----- diversity: 0.6\n",
            "----- Generating with seed: \"o.  i liked the mango-pineapple aqua, super sweet and clean flavor.  i would go back, maybe.}{back from holiday and had some amazing soups that made me reflect back on my experience here.  i have to preface this review with that the owner here is quite lov\"\n",
            "o.  i liked the mango-pineapple aqua, super sweet and clean flavor.  i would go back, maybe.}{back from holiday and had some amazing soups that made me reflect back on my experience here.  i have to preface this review with that the owner here is quite lovad.  and i and the salad and the coored and the food was away are and walthough the gaining menu, you was our sandwich was saus is specials out i'm sour out of the service was saus, i was great! the owner than shople of soup to as  it's the but i went for the salad ners - i come out of the order for herr there as modning to order for the collegation new managee carnet the could had been atle are o\n",
            "\n",
            "----- diversity: 0.8\n",
            "----- Generating with seed: \"o.  i liked the mango-pineapple aqua, super sweet and clean flavor.  i would go back, maybe.}{back from holiday and had some amazing soups that made me reflect back on my experience here.  i have to preface this review with that the owner here is quite lov\"\n",
            "o.  i liked the mango-pineapple aqua, super sweet and clean flavor.  i would go back, maybe.}{back from holiday and had some amazing soups that made me reflect back on my experience here.  i have to preface this review with that the owner here is quite lovited carrate and they'll of the food herr was a little from cheese and oryered the food was a nice scrapped the order for a need times.  e there thing i am ittle green or baing\n",
            "and the food was wert the when i can has boys that i were got a all bother.  when i even the take the case was the struptely say was not coups. and writic large  to be better, and the mon't stan feai ine had a feeled by tha\n",
            "\n",
            "--------------------------------------------------\n",
            "Iteration 4\n",
            "185/185 [==============================] - 82s 445ms/step - loss: 0.6323\n",
            "\n",
            "----- diversity: 0.2\n",
            "----- Generating with seed: \"on magazine. oh, and be prepared to throw down more than the norm for drinks -- martinis are $13! if all of this isn't scaring you away, you'll probably have a good time. and the best part? the bar offers hourly burlesque-style performances from the club's\"\n",
            "on magazine. oh, and be prepared to throw down more than the norm for drinks -- martinis are $13! if all of this isn't scaring you away, you'll probably have a good time. and the best part? the bar offers hourly burlesque-style performances from the club's bloss and the restaurant and they little br"
          ],
          "name": "stdout"
        },
        {
          "output_type": "stream",
          "text": [
            "/usr/local/lib/python3.7/dist-packages/ipykernel_launcher.py:6: RuntimeWarning: divide by zero encountered in log\n",
            "  \n"
          ],
          "name": "stderr"
        },
        {
          "output_type": "stream",
          "text": [
            "utch on a bagance but it's not in the bood. it was a little of ering that the food as the best place for a little lit re lit the best pays the bottor and a bigle just and lithough there were 's ' burgers at beans. they did not served than 2 stars.}{abliching.}{was pretty good.  i'll be bust at a pancet good.  they were cream chole.  i drown than the serv\n",
            "\n",
            "----- diversity: 0.4\n",
            "----- Generating with seed: \"on magazine. oh, and be prepared to throw down more than the norm for drinks -- martinis are $13! if all of this isn't scaring you away, you'll probably have a good time. and the best part? the bar offers hourly burlesque-style performances from the club's\"\n",
            "on magazine. oh, and be prepared to throw down more than the norm for drinks -- martinis are $13! if all of this isn't scaring you away, you'll probably have a good time. and the best part? the bar offers hourly burlesque-style performances from the club's place, but it's not and heart as a little hot and looked liked it wasn't just a bit seaf eut the blat, but the would not really got a beeaked and the restaurant worls get and they little hot to sam this place and bristle drink not and i can have a very lood.\n",
            "\n",
            "the server was awesome.  i love the cookee intlighing by nice was breakfast).\n",
            "\n",
            "we will be ane there and looker don't let the food. it would\n",
            "\n",
            "----- diversity: 0.6\n",
            "----- Generating with seed: \"on magazine. oh, and be prepared to throw down more than the norm for drinks -- martinis are $13! if all of this isn't scaring you away, you'll probably have a good time. and the best part? the bar offers hourly burlesque-style performances from the club's\"\n",
            "on magazine. oh, and be prepared to throw down more than the norm for drinks -- martinis are $13! if all of this isn't scaring you away, you'll probably have a good time. and the best part? the bar offers hourly burlesque-style performances from the club's really kuppro and perfon for a paple hot that are aw this location not on hoppurs, drinks that upper bond...how brewn hat been very good.  very nice and (our car sour than 2 seaf eat looks and the back and this located in the morning and they are this place and had some new bone bowl of salad, and there and served thas that when i was not the wedd cold tasting.  and.. they are a few days back!\n",
            "\n",
            "t\n",
            "\n",
            "----- diversity: 0.8\n",
            "----- Generating with seed: \"on magazine. oh, and be prepared to throw down more than the norm for drinks -- martinis are $13! if all of this isn't scaring you away, you'll probably have a good time. and the best part? the bar offers hourly burlesque-style performances from the club's\"\n",
            "on magazine. oh, and be prepared to throw down more than the norm for drinks -- martinis are $13! if all of this isn't scaring you away, you'll probably have a good time. and the best part? the bar offers hourly burlesque-style performances from the club's by night. it's not un the stard.  it's a but at whenily work had a nice over seep ullawed mush make ubuelling here is no the trad of quick, which wast would.  it ho but it's a but had a few lacarable-not the breadfast and dripk, not. lanch asain a dring excrts of capering, but not to taste in not that food happy hour....and recovar kioks to quirk dirnt in one of the cooken for dish, but it wasn't\n"
          ],
          "name": "stdout"
        }
      ]
    }
  ]
}